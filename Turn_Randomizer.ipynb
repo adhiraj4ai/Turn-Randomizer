{
  "cells": [
    {
      "cell_type": "markdown",
      "metadata": {
        "id": "view-in-github",
        "colab_type": "text"
      },
      "source": [
        "<a href=\"https://colab.research.google.com/github/adhiraj4ai/Turn-Randomizer/blob/main/Turn_Randomizer.ipynb\" target=\"_parent\"><img src=\"https://colab.research.google.com/assets/colab-badge.svg\" alt=\"Open In Colab\"/></a>"
      ]
    },
    {
      "cell_type": "code",
      "execution_count": null,
      "id": "aff56a03-2214-4cb3-a270-b8be402ec4b8",
      "metadata": {
        "id": "aff56a03-2214-4cb3-a270-b8be402ec4b8"
      },
      "outputs": [],
      "source": [
        "import random\n",
        "\n",
        "def read_previous_output(file_name):\n",
        "    \"\"\"\n",
        "    Read the list of previously sampled numbers from a file.\n",
        "\n",
        "    Parameters:\n",
        "    - file_name (str): The name of the file containing the previous output.\n",
        "\n",
        "    Returns:\n",
        "    - list: A list of integers representing previously sampled numbers.\n",
        "    \"\"\"\n",
        "    try:\n",
        "        with open(file_name, 'r') as file:\n",
        "            previous_output = file.read().strip().split(',')\n",
        "            previous_output = [int(num.strip('[]')) for num in previous_output]\n",
        "            return previous_output\n",
        "    except FileNotFoundError:\n",
        "        return []\n",
        "\n",
        "def write_output(file_name, output):\n",
        "    \"\"\"\n",
        "    Write the list of sampled numbers to a file.\n",
        "\n",
        "    Parameters:\n",
        "    - file_name (str): The name of the file to write the output to.\n",
        "    - output (list): A list of integers representing the sampled numbers.\n",
        "    \"\"\"\n",
        "    with open(file_name, 'w') as file:\n",
        "        file.write(','.join(map(str, output)))\n",
        "\n",
        "def sampling_without_replacement(previous_output, start, end):\n",
        "    \"\"\"\n",
        "    Perform sampling without replacement from a specified range of numbers.\n",
        "\n",
        "    Parameters:\n",
        "    - previous_output (list): A list of integers representing previously sampled numbers.\n",
        "    - start (int): The start of the range of numbers to sample from.\n",
        "    - end (int): The end of the range of numbers to sample from.\n",
        "\n",
        "    Returns:\n",
        "    - int: A randomly sampled number.\n",
        "    \"\"\"\n",
        "    available_numbers = [num for num in range(start, end + 1) if num not in previous_output]\n",
        "    if not available_numbers:\n",
        "        raise ValueError(\"All numbers have been sampled.\")\n",
        "    sampled_number = random.choice(available_numbers)\n",
        "    return sampled_number\n",
        "\n",
        "def show_samples(file_name):\n",
        "    \"\"\"\n",
        "    Read and print the list of samples from a file.\n",
        "\n",
        "    Parameters:\n",
        "    - file_name (str): The name of the file containing the samples.\n",
        "    \"\"\"\n",
        "    samples = read_previous_output(file_name)\n",
        "    if samples:\n",
        "        print(\"Samples:\", samples)\n",
        "    else:\n",
        "        print(\"No samples in\", file_name)\n",
        "\n",
        "def process_pending_samples(start, end):\n",
        "    \"\"\"\n",
        "    Process pending samples once all possible samples are drawn from the range.\n",
        "\n",
        "    Parameters:\n",
        "    - start (int): The start of the range of numbers to sample from.\n",
        "    - end (int): The end of the range of numbers to sample from.\n",
        "    \"\"\"\n",
        "    pending_file = \"pending-presentation.txt\"\n",
        "    pending_output = read_previous_output(pending_file)\n",
        "\n",
        "    if len(pending_output) == end - start + 1:\n",
        "        print(\"All possible samples have been drawn. Processing pending samples...\")\n",
        "        # Implement your logic to process pending samples here\n",
        "        print(\"Pending samples processed.\")\n",
        "        # Clear the pending file\n",
        "        write_output(pending_file, [])\n",
        "    else:\n",
        "        print(\"Not all possible samples have been drawn. No pending samples will be processed.\")\n",
        "\n",
        "def main(start=1, end=35):\n",
        "    \"\"\"\n",
        "    Main function to sample a number and mark it as completed or pending.\n",
        "\n",
        "    Parameters:\n",
        "    - start (int): The start of the range of numbers to sample from. Default is 1.\n",
        "    - end (int): The end of the range of numbers to sample from. Default is 35.\n",
        "    \"\"\"\n",
        "    completed_file = \"completed-presentation.txt\"\n",
        "    pending_file = \"pending-presentation.txt\"\n",
        "\n",
        "    completed_output = read_previous_output(completed_file)\n",
        "    pending_output = read_previous_output(pending_file)\n",
        "\n",
        "    try:\n",
        "        # Sample a number\n",
        "        sampled_number = sampling_without_replacement(completed_output + pending_output, start, end)\n",
        "        print(\"Next Presentation:\", sampled_number)\n",
        "\n",
        "        # Prompt the user to mark the sample as completed or pending\n",
        "        status = input(\"Mark as completed (C) or pending (P): \").upper()\n",
        "        if status not in ('C', 'P'):\n",
        "            raise ValueError(\"Invalid input. Please enter 'C' or 'P'.\")\n",
        "\n",
        "        # Update the appropriate file based on the user input\n",
        "        if status == 'C':\n",
        "            completed_output.append(sampled_number)\n",
        "            write_output(completed_file, completed_output)\n",
        "            print(\"Sample marked as completed.\")\n",
        "        else:\n",
        "            pending_output.append(sampled_number)\n",
        "            write_output(pending_file, pending_output)\n",
        "            print(\"Sample marked as absent.\")\n",
        "\n",
        "        # Show the lists of completed and pending samples\n",
        "        print(\"\\nCompleted Roll Nos:\")\n",
        "        show_samples(completed_file)\n",
        "        print(\"\\nAbsentee Roll Nos:\")\n",
        "        show_samples(pending_file)\n",
        "\n",
        "        # Process pending samples if all possible samples are drawn\n",
        "        process_pending_samples(start, end)\n",
        "    except ValueError as e:\n",
        "        print(e)"
      ]
    },
    {
      "cell_type": "code",
      "execution_count": null,
      "id": "c485f211-2a7f-49cb-ae4e-c1c26fd07f00",
      "metadata": {
        "colab": {
          "base_uri": "https://localhost:8080/"
        },
        "id": "c485f211-2a7f-49cb-ae4e-c1c26fd07f00",
        "outputId": "11250098-acf7-4969-a966-ebcf7e683387"
      },
      "outputs": [
        {
          "output_type": "stream",
          "name": "stdout",
          "text": [
            "Next Presentation: 12\n",
            "Mark as completed (C) or pending (P): C\n",
            "Sample marked as completed.\n",
            "\n",
            "Completed Roll Nos:\n",
            "Samples: [7, 35, 12]\n",
            "\n",
            "Absentee Roll Nos:\n",
            "Samples: [13]\n",
            "Not all possible samples have been drawn. No pending samples will be processed.\n"
          ]
        }
      ],
      "source": [
        "MIN_ROLL = 1\n",
        "MAX_ROLL = 35\n",
        "if __name__ == \"__main__\":\n",
        "    main(start=MIN_ROLL, end=MAX_ROLL)"
      ]
    },
    {
      "cell_type": "code",
      "execution_count": null,
      "id": "07f453d7-f23a-4df1-978b-fdcd3ebe4158",
      "metadata": {
        "id": "07f453d7-f23a-4df1-978b-fdcd3ebe4158"
      },
      "outputs": [],
      "source": []
    }
  ],
  "metadata": {
    "kernelspec": {
      "display_name": "Python 3 (ipykernel)",
      "language": "python",
      "name": "python3"
    },
    "language_info": {
      "codemirror_mode": {
        "name": "ipython",
        "version": 3
      },
      "file_extension": ".py",
      "mimetype": "text/x-python",
      "name": "python",
      "nbconvert_exporter": "python",
      "pygments_lexer": "ipython3",
      "version": "3.11.0"
    },
    "colab": {
      "provenance": [],
      "include_colab_link": true
    }
  },
  "nbformat": 4,
  "nbformat_minor": 5
}